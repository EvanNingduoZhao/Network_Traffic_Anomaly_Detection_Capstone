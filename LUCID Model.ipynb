{
 "cells": [
  {
   "cell_type": "markdown",
   "id": "713d91bd",
   "metadata": {},
   "source": [
    "# LUCID Model"
   ]
  },
  {
   "cell_type": "markdown",
   "id": "b66b2d43",
   "metadata": {},
   "source": [
    "This the jupyter notebook that implements the LUCID CNN model to process the parsed network flow data to detect abnormal network traffic. There will be  sections in this notebook. Please run these sections in sequence to make sure the model can be run smoothly. \n",
    "* Environment Setup\n",
    "* Data Loader\n",
    "* Create Model\n",
    "* Train Model"
   ]
  },
  {
   "cell_type": "markdown",
   "id": "a9253aff",
   "metadata": {},
   "source": [
    "## Setup"
   ]
  },
  {
   "cell_type": "markdown",
   "id": "4d3e5a26",
   "metadata": {},
   "source": [
    "### Import Packages"
   ]
  },
  {
   "cell_type": "markdown",
   "id": "30da0a77",
   "metadata": {},
   "source": [
    "Import the packages required for this jupyter notebook"
   ]
  },
  {
   "cell_type": "code",
   "execution_count": 1,
   "id": "3829f158",
   "metadata": {},
   "outputs": [
    {
     "data": {
      "text/plain": [
       "False"
      ]
     },
     "execution_count": 1,
     "metadata": {},
     "output_type": "execute_result"
    }
   ],
   "source": [
    "import boto3\n",
    "import pandas as pd\n",
    "from sagemaker import get_execution_role\n",
    "import s3fs\n",
    "import h5py\n",
    "import numpy as np\n",
    "import time\n",
    "from sklearn.metrics import accuracy_score\n",
    "from sklearn.metrics import f1_score\n",
    "from sklearn.metrics import confusion_matrix\n",
    "\n",
    "import torch\n",
    "import torch.nn as nn\n",
    "from torch.utils.data import Dataset, DataLoader\n",
    "\n",
    "import torch.optim as optim\n",
    "\n",
    "# check if GPU is available\n",
    "cuda = torch.cuda.is_available()\n",
    "cuda"
   ]
  },
  {
   "cell_type": "markdown",
   "id": "8157f837",
   "metadata": {},
   "source": [
    "### S3 Bucket"
   ]
  },
  {
   "cell_type": "markdown",
   "id": "7b7d0a97",
   "metadata": {},
   "source": [
    "Connect to the S3 bucket that stores the train, validation and test dataset. Inspect the data stored there."
   ]
  },
  {
   "cell_type": "code",
   "execution_count": 2,
   "id": "b829507c",
   "metadata": {},
   "outputs": [
    {
     "data": {
      "text/plain": [
       "['capstone-ddos-data/',\n",
       " 'capstone-ddos-data/.',\n",
       " 'capstone-ddos-data/best_model',\n",
       " 'capstone-ddos-data/capstone-ddos-data',\n",
       " 'capstone-ddos-data/capstone-ddos-data',\n",
       " 'capstone-ddos-data/firstZipDataset',\n",
       " 'capstone-ddos-data/model',\n",
       " 'capstone-ddos-data/model',\n",
       " 'capstone-ddos-data/model.bin',\n",
       " 'capstone-ddos-data/model.json',\n",
       " 'capstone-ddos-data/test,',\n",
       " 'capstone-ddos-data/testEmptyFolder',\n",
       " 'capstone-ddos-data/tryout',\n",
       " 'capstone-ddos-data/tryout2']"
      ]
     },
     "execution_count": 2,
     "metadata": {},
     "output_type": "execute_result"
    }
   ],
   "source": [
    "s3 = s3fs.S3FileSystem()\n",
    "\n",
    "# check the folders in the s3 bucket\n",
    "s3.ls(\"capstone-ddos-data\")"
   ]
  },
  {
   "cell_type": "code",
   "execution_count": 3,
   "id": "69e86963",
   "metadata": {},
   "outputs": [
    {
     "data": {
      "text/plain": [
       "['capstone-ddos-data/firstZipDataset/1000t-1000n-DDOS2019-dataset-test.hdf5',\n",
       " 'capstone-ddos-data/firstZipDataset/1000t-1000n-DDOS2019-dataset-train.hdf5',\n",
       " 'capstone-ddos-data/firstZipDataset/1000t-1000n-DDOS2019-dataset-val.hdf5',\n",
       " 'capstone-ddos-data/firstZipDataset/1000t-1000n-DDOS2019-preprocess.data',\n",
       " 'capstone-ddos-data/firstZipDataset/10t-100n-DDOS2019-dataset-test.hdf5',\n",
       " 'capstone-ddos-data/firstZipDataset/10t-100n-DDOS2019-dataset-train.hdf5',\n",
       " 'capstone-ddos-data/firstZipDataset/10t-100n-DDOS2019-dataset-val.hdf5',\n",
       " 'capstone-ddos-data/firstZipDataset/10t-100n-DDOS2019-preprocess.data',\n",
       " 'capstone-ddos-data/firstZipDataset/10t-10n-DDOS2019-dataset-test.hdf5',\n",
       " 'capstone-ddos-data/firstZipDataset/10t-10n-DDOS2019-dataset-train.hdf5',\n",
       " 'capstone-ddos-data/firstZipDataset/10t-10n-DDOS2019-dataset-val.hdf5',\n",
       " 'capstone-ddos-data/firstZipDataset/10t-10n-DDOS2019-preprocess.data',\n",
       " 'capstone-ddos-data/firstZipDataset/history.log']"
      ]
     },
     "execution_count": 3,
     "metadata": {},
     "output_type": "execute_result"
    }
   ],
   "source": [
    "# check the files in the dataset folder \n",
    "s3.ls(\"capstone-ddos-data/firstZipDataset\")"
   ]
  },
  {
   "cell_type": "code",
   "execution_count": 4,
   "id": "628e54d8",
   "metadata": {},
   "outputs": [
    {
     "name": "stdout",
     "output_type": "stream",
     "text": [
      "<HDF5 dataset \"set_x\": shape (25083, 10, 11), type \"<f8\">\n",
      "<HDF5 dataset \"set_y\": shape (25083,), type \"<i8\">\n"
     ]
    }
   ],
   "source": [
    "# inspect data\n",
    "dataset = h5py.File(s3.open(\"s3://capstone-ddos-data/firstZipDataset/10t-10n-DDOS2019-dataset-train.hdf5\", \"rb\"))\n",
    "print(dataset['set_x'])\n",
    "print(dataset['set_y'])"
   ]
  },
  {
   "cell_type": "code",
   "execution_count": 5,
   "id": "3e2d27af",
   "metadata": {},
   "outputs": [],
   "source": [
    "# s3 = boto3.client('s3')\n",
    "# bucket_name = \"capstone-ddos-data\"\n",
    "# directory_name = \"test,\" #it's name of your folders\n",
    "# s3.put_object(Bucket=bucket_name, Key=(directory_name+'/'))"
   ]
  },
  {
   "cell_type": "markdown",
   "id": "2431d819",
   "metadata": {},
   "source": [
    "### SageMaker"
   ]
  },
  {
   "cell_type": "markdown",
   "id": "59d1dded",
   "metadata": {},
   "source": [
    "Set up the SageMaker local file directory to store the model checkpoints before uploading to S3 bucket. Ignore this command if the model directory is already exists. It will show an error message of \"mkdir: cannot create directory ‘model’: File exists\""
   ]
  },
  {
   "cell_type": "code",
   "execution_count": 6,
   "id": "34212321",
   "metadata": {},
   "outputs": [
    {
     "name": "stdout",
     "output_type": "stream",
     "text": [
      "mkdir: cannot create directory ‘model’: File exists\n"
     ]
    }
   ],
   "source": [
    "!mkdir model"
   ]
  },
  {
   "cell_type": "code",
   "execution_count": 7,
   "id": "5841887f",
   "metadata": {},
   "outputs": [],
   "source": [
    "model_path = \"/home/ec2-user/SageMaker/model/\""
   ]
  },
  {
   "cell_type": "markdown",
   "id": "db0ca95f",
   "metadata": {},
   "source": [
    "## Data Loader"
   ]
  },
  {
   "cell_type": "markdown",
   "id": "ac90cfd1",
   "metadata": {},
   "source": [
    "Load the dataset with the specified t and n values. t and n are spcified at the data processing stage where they will determine how the data need to be parsed. t is the time window that we capture all the packets from the file. Thus, for the training data, it is the time window that we used to cut the data flow into different sections. n is the maximum number of packets the parsing process collects for each flow within the time window t."
   ]
  },
  {
   "cell_type": "code",
   "execution_count": 8,
   "id": "6f6ddbe1",
   "metadata": {},
   "outputs": [],
   "source": [
    "# specify the t and n parameters to load the corresponding data\n",
    "t = 10\n",
    "n = 10"
   ]
  },
  {
   "cell_type": "code",
   "execution_count": 9,
   "id": "ab7c7996",
   "metadata": {},
   "outputs": [],
   "source": [
    "train_file = \"s3://capstone-ddos-data/firstZipDataset/\"+str(t)+\"t-\"+str(n)+\"n-DDOS2019-dataset-train.hdf5\"\n",
    "val_file = \"s3://capstone-ddos-data/firstZipDataset/\"+str(t)+\"t-\"+str(n)+\"n-DDOS2019-dataset-val.hdf5\""
   ]
  },
  {
   "cell_type": "code",
   "execution_count": 10,
   "id": "07983655",
   "metadata": {},
   "outputs": [],
   "source": [
    "# load training and dev data\n",
    "dataset = h5py.File(s3.open(train_file, 'rb'))\n",
    "train_data = np.array(dataset['set_x'][:])\n",
    "train_labels = np.array(dataset[\"set_y\"][:])\n",
    "\n",
    "dataset_val = h5py.File(s3.open(val_file, 'rb'))\n",
    "val_data = np.array(dataset_val['set_x'][:])\n",
    "val_labels = np.array(dataset_val[\"set_y\"][:])"
   ]
  },
  {
   "cell_type": "code",
   "execution_count": 11,
   "id": "ee541df4",
   "metadata": {},
   "outputs": [
    {
     "name": "stdout",
     "output_type": "stream",
     "text": [
      "(25083, 10, 11)\n",
      "(25083,)\n",
      "(2787, 10, 11)\n",
      "(2787,)\n"
     ]
    }
   ],
   "source": [
    "# check the data shape\n",
    "print(train_data.shape)\n",
    "print(train_labels.shape)\n",
    "print(val_data.shape)\n",
    "print(val_labels.shape)"
   ]
  },
  {
   "cell_type": "code",
   "execution_count": 12,
   "id": "dd8e7700",
   "metadata": {},
   "outputs": [
    {
     "data": {
      "text/plain": [
       "{0: 12672, 1: 12411}"
      ]
     },
     "execution_count": 12,
     "metadata": {},
     "output_type": "execute_result"
    }
   ],
   "source": [
    "# check whether the data is balanced\n",
    "unique, counts = np.unique(train_labels, return_counts=True)\n",
    "dict(zip(unique, counts))"
   ]
  },
  {
   "cell_type": "markdown",
   "id": "6f38863b",
   "metadata": {},
   "source": [
    "### Customization"
   ]
  },
  {
   "cell_type": "markdown",
   "id": "2f859222",
   "metadata": {},
   "source": [
    "This is the class that used to convert the data into correct shape and format and input into the pytorch model."
   ]
  },
  {
   "cell_type": "code",
   "execution_count": 13,
   "id": "629e0696",
   "metadata": {},
   "outputs": [],
   "source": [
    "# Define dataset class\n",
    "class MyDataSet(Dataset):\n",
    "    # load the dataset\n",
    "    def __init__(self, x, y):\n",
    "        self.X = x\n",
    "        self.Y = y\n",
    "\n",
    "    # get number of items/rows in dataset\n",
    "    def __len__(self):\n",
    "        return len(self.Y)\n",
    "\n",
    "    # get row item at some index\n",
    "    def __getitem__(self, index):\n",
    "        return self.X[index], self.Y[index]\n",
    "\n",
    "    def collate_fn(batch):\n",
    "        batch_y = [y for x, y in batch]\n",
    "        batch_x = [x for x, y in batch]\n",
    "\n",
    "        batch_x = torch.as_tensor(batch_x).float()\n",
    "        batch_y = torch.as_tensor(batch_y).float()\n",
    "\n",
    "        return batch_x, batch_y.reshape(-1,1)\n"
   ]
  },
  {
   "cell_type": "markdown",
   "id": "176b1df8",
   "metadata": {},
   "source": [
    "### Load Data"
   ]
  },
  {
   "cell_type": "markdown",
   "id": "0a33bb5a",
   "metadata": {},
   "source": [
    "Load the data to train_loader and val_loader to be sent to the training process in the next session"
   ]
  },
  {
   "cell_type": "code",
   "execution_count": 14,
   "id": "6e850949",
   "metadata": {},
   "outputs": [],
   "source": [
    "# hyperparameters used to load the dataset.\n",
    "batch_size = 20\n",
    "num_workers = 6 if cuda else 0"
   ]
  },
  {
   "cell_type": "markdown",
   "id": "5a6ffaba",
   "metadata": {},
   "source": [
    "**Shuffle need to be true for training and false for validation**\n",
    "\n",
    "Shuffling the training data set makes sure that every epoch of training will see different subset of training data. This will help to speed up training process and avoid the model to just remember the output order to cause overfitting. \n",
    "\n",
    "The sequence of packets is preseved within the time t. Thus, if we think sequence of packets is important, we can increase t to emphasize on that feature. We tried t = 10, 50, 100 and 150 and observe that t=100 is the best hyperparameter.\n"
   ]
  },
  {
   "cell_type": "code",
   "execution_count": 15,
   "id": "4bce4780",
   "metadata": {},
   "outputs": [],
   "source": [
    "# training data\n",
    "train = MyDataSet(train_data, train_labels)\n",
    "train_args = dict(shuffle = True, batch_size = batch_size, num_workers=num_workers, pin_memory=True, collate_fn=MyDataSet.collate_fn) if cuda else dict(shuffle=True, batch_size=1024, collate_fn=MyDataSet.collate_fn)\n",
    "train_loader = DataLoader(train, **train_args)"
   ]
  },
  {
   "cell_type": "code",
   "execution_count": 16,
   "id": "4e55a5ca",
   "metadata": {},
   "outputs": [],
   "source": [
    "# validation data\n",
    "dev = MyDataSet(val_data, val_labels)\n",
    "dev_args = dict(shuffle=False, batch_size=batch_size, num_workers=num_workers, pin_memory=True, collate_fn=MyDataSet.collate_fn) if cuda else dict(shuffle=False, batch_size=64, collate_fn=MyDataSet.collate_fn)\n",
    "val_loader = DataLoader(dev, **dev_args)"
   ]
  },
  {
   "cell_type": "markdown",
   "id": "616d6f77",
   "metadata": {},
   "source": [
    "## Create Model"
   ]
  },
  {
   "cell_type": "markdown",
   "id": "d37cbab2",
   "metadata": {},
   "source": [
    "### Model Hyperparameters"
   ]
  },
  {
   "cell_type": "markdown",
   "id": "09c55fec",
   "metadata": {},
   "source": [
    "Model hyperparameters that could be tuned to optimize the performance of the model. The current values are optimized based on the paper suggestions and experiments."
   ]
  },
  {
   "cell_type": "code",
   "execution_count": 17,
   "id": "8d036b2d",
   "metadata": {},
   "outputs": [],
   "source": [
    "k = 64\n",
    "h = 3\n",
    "cnn_dropout = 0\n",
    "m = 98\n",
    "if m > n:\n",
    "    maxpool_kernel_size = n\n",
    "else:\n",
    "    maxpool_kernel_size = m\n",
    "\n",
    "# in_features number for linear layer\n",
    "in_feature_no = ((n - maxpool_kernel_size) + 1) * k"
   ]
  },
  {
   "cell_type": "markdown",
   "id": "24329faf",
   "metadata": {},
   "source": [
    "### Model Architecture"
   ]
  },
  {
   "cell_type": "markdown",
   "id": "a11bd606",
   "metadata": {},
   "source": [
    "Model architecture suggested by the paper. The print statements could be used to debug the model structure."
   ]
  },
  {
   "cell_type": "code",
   "execution_count": 25,
   "id": "df3ae0e5",
   "metadata": {},
   "outputs": [],
   "source": [
    "class model(nn.Module):\n",
    "    def __init__(self, input_size, output_size):\n",
    "        super(model, self).__init__()\n",
    "\n",
    "        # CNN Layer\n",
    "        self.conv = nn.Conv1d(in_channels=input_size, out_channels=k, kernel_size=h, stride=1, padding=1)\n",
    "        self.cnndrop = nn.Dropout(p=cnn_dropout)\n",
    "        self.relu = nn.ReLU()\n",
    "\n",
    "        # Maxpooling Layer\n",
    "        self.maxpool = nn.MaxPool1d(kernel_size=maxpool_kernel_size, stride = 1)\n",
    "\n",
    "        # Flatten Layer\n",
    "        self.flatten = nn.Flatten()\n",
    "\n",
    "        # FC Layer\n",
    "        self.linear = nn.Linear(in_features=in_feature_no, out_features=output_size)\n",
    "        self.sigmoid = nn.Sigmoid()\n",
    "    \n",
    "    def forward(self, x):\n",
    "        # x: (batch_size, t=10, num_features) -> (batch_size, num_features, t=10)\n",
    "        x = x.permute(0, 2, 1)\n",
    "        # print(\"x: (batch_size, num_features, t=10)\", x.shape)\n",
    "\n",
    "        # --------- CNN Layer -----------\n",
    "        x = self.conv(x)\n",
    "        x = self.relu(x)\n",
    "        # print(\"x: (batch_size, k, n-h+1\", x.shape)\n",
    "\n",
    "        # --------- Max Pooling Layer ----------\n",
    "        x = self.maxpool(x)\n",
    "        # print(\"x: (batch_size, k, ~512\", x.shape)\n",
    "\n",
    "        # --------- Flatten Layer -----------\n",
    "        x = self.flatten(x)\n",
    "        # print(\"x: batch_size, k*1\", x.shape)\n",
    "\n",
    "        # --------- Fully Connected Layer ---------\n",
    "        x = self.linear(x)\n",
    "        x = self.sigmoid(x)\n",
    "\n",
    "        return x\n"
   ]
  },
  {
   "cell_type": "markdown",
   "id": "18c162c5",
   "metadata": {},
   "source": [
    "### Model Input and Output"
   ]
  },
  {
   "cell_type": "markdown",
   "id": "1d2fba6a",
   "metadata": {},
   "source": [
    "The input size of the model is the number of attributes decided by the data preprocessing stage. The current number is 11 where we extracted 11 attributes to train the model.\n",
    "\n",
    "The output size of the model is 1 where we will output 0 or 1 to determine whether the parsed network flow is abnormal or normal flow."
   ]
  },
  {
   "cell_type": "code",
   "execution_count": 26,
   "id": "aef3769e",
   "metadata": {},
   "outputs": [],
   "source": [
    "in_feature = 11\n",
    "output_size = 1"
   ]
  },
  {
   "cell_type": "markdown",
   "id": "d2906730",
   "metadata": {},
   "source": [
    "## Train Model"
   ]
  },
  {
   "cell_type": "markdown",
   "id": "4ecd2dd1",
   "metadata": {},
   "source": [
    "### Training Hyperparameters"
   ]
  },
  {
   "cell_type": "markdown",
   "id": "83386753",
   "metadata": {},
   "source": [
    "Hyperparameters in the training process. Could be changed to improve the training speed and decide the early stop points."
   ]
  },
  {
   "cell_type": "code",
   "execution_count": 27,
   "id": "0490d3ae",
   "metadata": {},
   "outputs": [],
   "source": [
    "lr = 0.01\n",
    "scheduler_factor = 0.5\n",
    "scheduler_patience = 2"
   ]
  },
  {
   "cell_type": "markdown",
   "id": "d9d67356",
   "metadata": {},
   "source": [
    "### Training Setup"
   ]
  },
  {
   "cell_type": "markdown",
   "id": "da4f6f23",
   "metadata": {},
   "source": [
    "Setup the training variables such as loss function, optimizer and model before sending into the train function."
   ]
  },
  {
   "cell_type": "code",
   "execution_count": 28,
   "id": "47fcb7f0",
   "metadata": {},
   "outputs": [
    {
     "name": "stdout",
     "output_type": "stream",
     "text": [
      "model(\n",
      "  (conv): Conv1d(11, 64, kernel_size=(3,), stride=(1,), padding=(1,))\n",
      "  (cnndrop): Dropout(p=0, inplace=False)\n",
      "  (relu): ReLU()\n",
      "  (maxpool): MaxPool1d(kernel_size=10, stride=1, padding=0, dilation=1, ceil_mode=False)\n",
      "  (flatten): Flatten()\n",
      "  (linear): Linear(in_features=64, out_features=1, bias=True)\n",
      "  (sigmoid): Sigmoid()\n",
      ")\n"
     ]
    }
   ],
   "source": [
    "# model\n",
    "model = model(in_feature, output_size)\n",
    "\n",
    "# loss function\n",
    "criterion = nn.BCELoss()\n",
    "\n",
    "# optimizer\n",
    "optimizer = optim.Adam(model.parameters(), lr=lr)\n",
    "scheduler = optim.lr_scheduler.ReduceLROnPlateau(optimizer, factor=scheduler_factor, patience=scheduler_patience)\n",
    "\n",
    "# GPU setup if GPU is available\n",
    "device = torch.device(\"cuda\" if cuda else \"cpu\")\n",
    "model = model.to(device)\n",
    "print(model)"
   ]
  },
  {
   "cell_type": "markdown",
   "id": "6d167ee1",
   "metadata": {},
   "source": [
    "### Training Function"
   ]
  },
  {
   "cell_type": "markdown",
   "id": "a3f3338f",
   "metadata": {},
   "source": [
    "Training function that will be called below to train the model and backpropagate the loss to tune the parameter values using Adam optimizer specified in the previous section."
   ]
  },
  {
   "cell_type": "code",
   "execution_count": 29,
   "id": "dd20ebcf",
   "metadata": {},
   "outputs": [],
   "source": [
    "def train(train_loader, model, criterion, optimizer, device, scheduler):\n",
    "    model.train()\n",
    "    running_loss = 0.0\n",
    "\n",
    "    start_time = time.time()\n",
    "    for batch_idx, (data, target) in enumerate(train_loader):\n",
    "        optimizer.zero_grad()\n",
    "\n",
    "        data = data.to(device)\n",
    "        target = target.to(device)\n",
    "\n",
    "        output = model(data)\n",
    "\n",
    "        loss = criterion(output, target)\n",
    "        running_loss += loss.item()\n",
    "\n",
    "        loss.backward()\n",
    "        optimizer.step()\n",
    "\n",
    "        # clean after usage to avoid memory overflow\n",
    "        del data\n",
    "        del target\n",
    "        del output\n",
    "        del loss\n",
    "\n",
    "    end_time = time.time()\n",
    "    running_loss /= len(train_loader)\n",
    "    print(\"Training Loss: \", running_loss, \"Time: \", (end_time - start_time)/60, 'mins')\n",
    "    return running_loss"
   ]
  },
  {
   "cell_type": "markdown",
   "id": "070d9ac5",
   "metadata": {},
   "source": [
    "### Validation Function"
   ]
  },
  {
   "cell_type": "markdown",
   "id": "684c5e44",
   "metadata": {},
   "source": [
    "#### Classification Breaking Point\n",
    "This is the threshold that we used to determin whether the network flow is abnormal or normal. If the predicted probability of the model is bigger than the threshold, we will classify the network flow to be 1, abnormal. If the predicted proability is smaller than the threshold, we will classfiy the network flow to be 0, normal."
   ]
  },
  {
   "cell_type": "code",
   "execution_count": 30,
   "id": "cdec2624",
   "metadata": {},
   "outputs": [],
   "source": [
    "# threshold to determine abnormal and normal communication\n",
    "p = 0.5"
   ]
  },
  {
   "cell_type": "markdown",
   "id": "71fda349",
   "metadata": {},
   "source": [
    "Validation function that will be called below during training to evaluate the model. The model will not be trained on the validation set. But it will be evaluated on this dataset to prevent overfitting of the model on the training dataset. Once the error of model on the validation set start to increase, we will stop the training process to prevent overfitting. The evaluation metrics we used includes:\n",
    "* Accuracy\n",
    "* F1 score"
   ]
  },
  {
   "cell_type": "code",
   "execution_count": 31,
   "id": "4450250a",
   "metadata": {},
   "outputs": [],
   "source": [
    "def validate(val_loader, model, criterion):\n",
    "    with torch.no_grad():\n",
    "        model.eval()\n",
    "\n",
    "        running_loss = 0\n",
    "        correct_predictions = 0\n",
    "        total_predictions = 0\n",
    "        running_f1_score = 0\n",
    "\n",
    "        for batch_idx, (data, target) in enumerate(val_loader):\n",
    "            data = data.to(device)\n",
    "            target = target.to(device)\n",
    "\n",
    "            output = model(data)\n",
    "            loss = criterion(output, target).detach()\n",
    "            running_loss += loss.item()\n",
    "            \n",
    "            prediction = np.zeros(output.shape)\n",
    "            prediction[output >= p] = 1\n",
    "            y_true = target.detach().cpu().numpy()\n",
    "            y_pred = prediction\n",
    "            running_f1_score += f1_score(y_true, y_pred, average='weighted')\n",
    "\n",
    "\n",
    "            correct_predictions += np.sum(y_true == y_pred)\n",
    "            total_predictions += output.shape[0]\n",
    "            \n",
    "            # clean after usage to avoid memory overflow\n",
    "            del data\n",
    "            del target\n",
    "            del output\n",
    "            del loss\n",
    "\n",
    "    \n",
    "        running_loss /= len(val_loader)\n",
    "        running_f1_score /= len(val_loader)\n",
    "        acc = (correct_predictions/total_predictions) * 100.0\n",
    "        print('Validation Loss: ', running_loss)\n",
    "        print('Validation Accuracy: ', acc, \"%\")\n",
    "        print('Validation F1 Score: ', running_f1_score)\n",
    "    \n",
    "    return running_loss, acc"
   ]
  },
  {
   "cell_type": "markdown",
   "id": "8294258a",
   "metadata": {},
   "source": [
    "### Run Function"
   ]
  },
  {
   "cell_type": "markdown",
   "id": "645c8ab8",
   "metadata": {},
   "source": [
    "This is the function that will be called to train the model on the complete training dataset for n_epochs specified below. The intermediate checkpoints will be saved locally onto the SageMaker before upload to the S3 bucket."
   ]
  },
  {
   "cell_type": "code",
   "execution_count": 32,
   "id": "ade3c277",
   "metadata": {},
   "outputs": [],
   "source": [
    "# number of times the training dataset will be used to train the model\n",
    "n_epochs = 50"
   ]
  },
  {
   "cell_type": "code",
   "execution_count": 33,
   "id": "ecf3b737",
   "metadata": {},
   "outputs": [],
   "source": [
    "def run(n_epochs_range, model, criterion, optimizer, scheduler):\n",
    "    TRAIN_LOSS = []\n",
    "    VAL_LOSS = []\n",
    "    VAL_ACC = []\n",
    "\n",
    "    for i in n_epochs_range:\n",
    "        print(i)\n",
    "        # Train model\n",
    "        start_time = time.time()\n",
    "        train_loss = train(train_loader, model, criterion, optimizer, device, scheduler)\n",
    "        end_time = time.time()\n",
    "        TRAIN_LOSS.append(train_loss)\n",
    "        \n",
    "        # Validate model\n",
    "        start_time = time.time()\n",
    "        val_loss, val_acc = validate(val_loader, model, criterion)\n",
    "        end_time = time.time()\n",
    "        VAL_LOSS.append(val_loss)\n",
    "        VAL_ACC.append(val_acc)\n",
    "        \n",
    "        # Update scheduler\n",
    "        scheduler.step(val_loss)\n",
    "        \n",
    "        # Save the train model\n",
    "        torch.save({\n",
    "            'model_state_dict': model.state_dict(),\n",
    "            'optimizer_state_dict': optimizer.state_dict(),\n",
    "            'scheduler_state_dict': scheduler.state_dict(),\n",
    "        }, model_path + \"Model_\" + str(i))\n",
    "\n",
    "        # Save the train log\n",
    "        message = \"Epoch: {}, training loss is {}, training time is {} minutes\". format(i, train_loss, (end_time-start_time)/60.0)\n",
    "        with open(model_path + 'performance.txt','a') as f:\n",
    "            f.write(message +'\\n')\n",
    "\n",
    "        # Save the validation log\n",
    "        message = 'Epcho: {}, validation loss is {}, validation accuracy is {}, validation time is {} minutes'.format(i,val_loss, val_acc, (end_time - start_time)/60.0)\n",
    "        with open(model_path + 'performance.txt','a') as f:\n",
    "            f.write(message +'\\n')\n",
    "\n",
    "    return TRAIN_LOSS, VAL_LOSS, VAL_ACC"
   ]
  },
  {
   "cell_type": "markdown",
   "id": "3c0623e2",
   "metadata": {},
   "source": [
    "### Start to Train"
   ]
  },
  {
   "cell_type": "markdown",
   "id": "509d5b80",
   "metadata": {},
   "source": [
    "Start the training function. The training information such as training loss and validation loss will be printed while training the model."
   ]
  },
  {
   "cell_type": "code",
   "execution_count": 34,
   "id": "d9dd7d9c",
   "metadata": {},
   "outputs": [
    {
     "name": "stdout",
     "output_type": "stream",
     "text": [
      "0\n",
      "Training Loss:  0.5830080211162567 Time:  0.03824814558029175 mins\n",
      "Validation Loss:  0.45741205933419143\n",
      "Validation Accuracy:  92.17796914244708 %\n",
      "Validation F1 Score:  0.9213882899669261\n",
      "1\n",
      "Training Loss:  0.38944641828536986 Time:  0.01587134599685669 mins\n",
      "Validation Loss:  0.31652027571743185\n",
      "Validation Accuracy:  92.070326515967 %\n",
      "Validation F1 Score:  0.9203300037226416\n",
      "2\n",
      "Training Loss:  0.27688460230827333 Time:  0.01566934585571289 mins\n",
      "Validation Loss:  0.21559498526833273\n",
      "Validation Accuracy:  91.81916038751345 %\n",
      "Validation F1 Score:  0.9178759244818475\n",
      "3\n",
      "Training Loss:  0.20269007563591004 Time:  0.01598917245864868 mins\n",
      "Validation Loss:  0.15915825658223845\n",
      "Validation Accuracy:  91.89092213850017 %\n",
      "Validation F1 Score:  0.9185893488306042\n",
      "4\n",
      "Training Loss:  0.15418796837329865 Time:  0.016069304943084717 mins\n",
      "Validation Loss:  0.1213205572725697\n",
      "Validation Accuracy:  94.86903480444923 %\n",
      "Validation F1 Score:  0.9485493483663024\n",
      "5\n",
      "Training Loss:  0.12289514243602753 Time:  0.01617271105448405 mins\n",
      "Validation Loss:  0.09760765443471345\n",
      "Validation Accuracy:  99.06709723717259 %\n",
      "Validation F1 Score:  0.990467446411036\n",
      "6\n",
      "Training Loss:  0.0999098226428032 Time:  0.016344388326009113 mins\n",
      "Validation Loss:  0.07922726471654394\n",
      "Validation Accuracy:  99.28238249013276 %\n",
      "Validation F1 Score:  0.992588508774218\n",
      "7\n",
      "Training Loss:  0.08404736310243606 Time:  0.016151861349741618 mins\n",
      "Validation Loss:  0.06638099744238636\n",
      "Validation Accuracy:  99.42590599210621 %\n",
      "Validation F1 Score:  0.9943102356167433\n",
      "8\n",
      "Training Loss:  0.07710299119353295 Time:  0.016119333108266194 mins\n",
      "Validation Loss:  0.05690075313164429\n",
      "Validation Accuracy:  99.5335486185863 %\n",
      "Validation F1 Score:  0.9953758346347665\n",
      "9\n",
      "Training Loss:  0.0664823517203331 Time:  0.016090877850850425 mins\n",
      "Validation Loss:  0.0526936405592344\n",
      "Validation Accuracy:  99.85647649802655 %\n",
      "Validation F1 Score:  0.9985781543791133\n",
      "10\n",
      "Training Loss:  0.0614441929012537 Time:  0.015983080863952635 mins\n",
      "Validation Loss:  0.044966618890281425\n",
      "Validation Accuracy:  99.85647649802655 %\n",
      "Validation F1 Score:  0.9985717406771353\n",
      "11\n",
      "Training Loss:  0.05477186799049377 Time:  0.016035866737365723 mins\n",
      "Validation Loss:  0.04057776396670802\n",
      "Validation Accuracy:  99.85647649802655 %\n",
      "Validation F1 Score:  0.9985717406771353\n",
      "12\n",
      "Training Loss:  0.051118089258670805 Time:  0.0160698135693868 mins\n",
      "Validation Loss:  0.03764560803855685\n",
      "Validation Accuracy:  99.92823824901328 %\n",
      "Validation F1 Score:  0.9992890759111492\n",
      "13\n",
      "Training Loss:  0.04832920588552952 Time:  0.016035008430480956 mins\n",
      "Validation Loss:  0.03525065432768315\n",
      "Validation Accuracy:  99.92823824901328 %\n",
      "Validation F1 Score:  0.9992890759111492\n",
      "14\n",
      "Training Loss:  0.04858577638864517 Time:  0.016063288847605387 mins\n",
      "Validation Loss:  0.033620950490744275\n",
      "Validation Accuracy:  99.92823824901328 %\n",
      "Validation F1 Score:  0.9992890759111492\n",
      "15\n",
      "Training Loss:  0.04469486366957426 Time:  0.01607168515523275 mins\n",
      "Validation Loss:  0.03230473812965846\n",
      "Validation Accuracy:  99.92823824901328 %\n",
      "Validation F1 Score:  0.9992890759111492\n",
      "16\n",
      "Training Loss:  0.04336091969162226 Time:  0.016212356090545655 mins\n",
      "Validation Loss:  0.03107217729980634\n",
      "Validation Accuracy:  99.92823824901328 %\n",
      "Validation F1 Score:  0.9992890759111492\n",
      "17\n",
      "Training Loss:  0.04244334150105715 Time:  0.016019248962402345 mins\n",
      "Validation Loss:  0.030403653625398874\n",
      "Validation Accuracy:  99.78471474703983 %\n",
      "Validation F1 Score:  0.9978564214700075\n",
      "18\n",
      "Training Loss:  0.04148249749094248 Time:  0.01617141564687093 mins\n",
      "Validation Loss:  0.029398674849124454\n",
      "Validation Accuracy:  99.92823824901328 %\n",
      "Validation F1 Score:  0.9992890759111492\n",
      "19\n",
      "Training Loss:  0.04180167097598314 Time:  0.015976715087890624 mins\n",
      "Validation Loss:  0.028645122074522078\n",
      "Validation Accuracy:  99.92823824901328 %\n",
      "Validation F1 Score:  0.9992890759111492\n",
      "20\n",
      "Training Loss:  0.041038827858865264 Time:  0.01599233945210775 mins\n",
      "Validation Loss:  0.02834449130618437\n",
      "Validation Accuracy:  99.92823824901328 %\n",
      "Validation F1 Score:  0.9992890759111492\n",
      "21\n",
      "Training Loss:  0.041572311259806156 Time:  0.01589277187983195 mins\n",
      "Validation Loss:  0.02763375967465849\n",
      "Validation Accuracy:  99.92823824901328 %\n",
      "Validation F1 Score:  0.9992890759111492\n",
      "22\n",
      "Training Loss:  0.041146001275628806 Time:  0.017650791009267173 mins\n",
      "Validation Loss:  0.02700230000879277\n",
      "Validation Accuracy:  99.92823824901328 %\n",
      "Validation F1 Score:  0.9992890759111492\n",
      "23\n",
      "Training Loss:  0.03940202774479985 Time:  0.016018287340799967 mins\n",
      "Validation Loss:  0.02679380760475231\n",
      "Validation Accuracy:  99.89235737351991 %\n",
      "Validation F1 Score:  0.9989322992312523\n",
      "24\n",
      "Training Loss:  0.03960626134648919 Time:  0.016232343514760335 mins\n",
      "Validation Loss:  0.026308712052096696\n",
      "Validation Accuracy:  99.92823824901328 %\n",
      "Validation F1 Score:  0.9992890759111492\n",
      "25\n",
      "Training Loss:  0.03766258319839835 Time:  0.016155600547790527 mins\n",
      "Validation Loss:  0.026059533990602093\n",
      "Validation Accuracy:  99.92823824901328 %\n",
      "Validation F1 Score:  0.9992890759111492\n",
      "26\n",
      "Training Loss:  0.03754277242347598 Time:  0.016146806875864665 mins\n",
      "Validation Loss:  0.025745126720390876\n",
      "Validation Accuracy:  99.92823824901328 %\n",
      "Validation F1 Score:  0.9992890759111492\n",
      "27\n",
      "Training Loss:  0.037527006641030314 Time:  0.016016952196756997 mins\n",
      "Validation Loss:  0.025415290422229606\n",
      "Validation Accuracy:  99.92823824901328 %\n",
      "Validation F1 Score:  0.9992890759111492\n",
      "28\n",
      "Training Loss:  0.03682720743119717 Time:  0.01611714760462443 mins\n",
      "Validation Loss:  0.025146591297181494\n",
      "Validation Accuracy:  99.92823824901328 %\n",
      "Validation F1 Score:  0.9992890759111492\n",
      "29\n",
      "Training Loss:  0.03671159338206053 Time:  0.016000024477640786 mins\n",
      "Validation Loss:  0.025106343718520788\n",
      "Validation Accuracy:  99.92823824901328 %\n",
      "Validation F1 Score:  0.9992890759111492\n",
      "30\n",
      "Training Loss:  0.03860899390652776 Time:  0.016039852301279703 mins\n",
      "Validation Loss:  0.024774942701862365\n",
      "Validation Accuracy:  99.92823824901328 %\n",
      "Validation F1 Score:  0.9992890759111492\n",
      "31\n",
      "Training Loss:  0.03738934462890029 Time:  0.015983072916666667 mins\n",
      "Validation Loss:  0.02462427430278198\n",
      "Validation Accuracy:  99.92823824901328 %\n",
      "Validation F1 Score:  0.9992890759111492\n",
      "32\n",
      "Training Loss:  0.03708850596100092 Time:  0.016267796357472736 mins\n",
      "Validation Loss:  0.025082534107654778\n",
      "Validation Accuracy:  99.74883387154647 %\n",
      "Validation F1 Score:  0.9975123328772676\n",
      "33\n",
      "Training Loss:  0.0382565588504076 Time:  0.016205199559529624 mins\n",
      "Validation Loss:  0.024210219590300272\n",
      "Validation Accuracy:  99.92823824901328 %\n",
      "Validation F1 Score:  0.9992890759111492\n",
      "34\n",
      "Training Loss:  0.035531858410686255 Time:  0.016164064407348633 mins\n",
      "Validation Loss:  0.024133897584926508\n",
      "Validation Accuracy:  99.92823824901328 %\n",
      "Validation F1 Score:  0.9992890759111492\n",
      "35\n",
      "Training Loss:  0.03564627562649548 Time:  0.01613177458445231 mins\n",
      "Validation Loss:  0.023936648383493197\n",
      "Validation Accuracy:  99.92823824901328 %\n",
      "Validation F1 Score:  0.9992890759111492\n",
      "36\n",
      "Training Loss:  0.03656588070094585 Time:  0.016096099217732748 mins\n",
      "Validation Loss:  0.024362644336757843\n",
      "Validation Accuracy:  99.89235737351991 %\n",
      "Validation F1 Score:  0.9989322992312523\n",
      "37\n",
      "Training Loss:  0.03519966745749116 Time:  0.016037094593048095 mins\n",
      "Validation Loss:  0.023646027430500413\n",
      "Validation Accuracy:  99.92823824901328 %\n",
      "Validation F1 Score:  0.9992890759111492\n",
      "38\n",
      "Training Loss:  0.03504137492738664 Time:  0.016091330846150716 mins\n",
      "Validation Loss:  0.023648119608300145\n",
      "Validation Accuracy:  99.92823824901328 %\n",
      "Validation F1 Score:  0.9992890759111492\n",
      "39\n",
      "Training Loss:  0.03542734331451356 Time:  0.016092216968536376 mins\n",
      "Validation Loss:  0.023473324305748312\n",
      "Validation Accuracy:  99.92823824901328 %\n",
      "Validation F1 Score:  0.9992890759111492\n",
      "40\n",
      "Training Loss:  0.03608983256854117 Time:  0.016107157866160075 mins\n",
      "Validation Loss:  0.023340196651671166\n",
      "Validation Accuracy:  99.92823824901328 %\n",
      "Validation F1 Score:  0.9992890759111492\n",
      "41\n",
      "Training Loss:  0.03639570532366634 Time:  0.01608441670735677 mins\n",
      "Validation Loss:  0.023275980753665368\n",
      "Validation Accuracy:  99.92823824901328 %\n",
      "Validation F1 Score:  0.9992890759111492\n",
      "42\n",
      "Training Loss:  0.034576423931866884 Time:  0.016310290495554606 mins\n",
      "Validation Loss:  0.023054900194851638\n",
      "Validation Accuracy:  99.92823824901328 %\n",
      "Validation F1 Score:  0.9992890759111492\n",
      "43\n",
      "Training Loss:  0.03613497275859118 Time:  0.016115125020345053 mins\n",
      "Validation Loss:  0.02309129210202214\n",
      "Validation Accuracy:  99.92823824901328 %\n",
      "Validation F1 Score:  0.9992890759111492\n",
      "44\n",
      "Training Loss:  0.03567405045032501 Time:  0.016142590840657552 mins\n",
      "Validation Loss:  0.023127044974402947\n",
      "Validation Accuracy:  99.92823824901328 %\n",
      "Validation F1 Score:  0.9992890759111492\n",
      "45\n",
      "Training Loss:  0.03537341979332268 Time:  0.016129958629608154 mins\n",
      "Validation Loss:  0.022839023164124228\n",
      "Validation Accuracy:  99.92823824901328 %\n",
      "Validation F1 Score:  0.9992890759111492\n",
      "46\n",
      "Training Loss:  0.03527510778978467 Time:  0.016136769453684488 mins\n",
      "Validation Loss:  0.022965959837496153\n",
      "Validation Accuracy:  99.92823824901328 %\n",
      "Validation F1 Score:  0.9992890759111492\n",
      "47\n",
      "Training Loss:  0.038349940134212376 Time:  0.016278394063313804 mins\n",
      "Validation Loss:  0.023105166300162884\n",
      "Validation Accuracy:  99.92823824901328 %\n",
      "Validation F1 Score:  0.9992890759111492\n",
      "48\n",
      "Training Loss:  0.035553399277850985 Time:  0.01602271795272827 mins\n",
      "Validation Loss:  0.022589164150386667\n",
      "Validation Accuracy:  99.92823824901328 %\n",
      "Validation F1 Score:  0.9992890759111492\n",
      "49\n",
      "Training Loss:  0.03616157548502088 Time:  0.01610472599665324 mins\n",
      "Validation Loss:  0.022659752406153446\n",
      "Validation Accuracy:  99.92823824901328 %\n",
      "Validation F1 Score:  0.9992890759111492\n"
     ]
    }
   ],
   "source": [
    "# Run from the start\n",
    "n_epochs_range = range(n_epochs)\n",
    "train_error, val_error, val_accuracy = run(n_epochs_range, model, criterion, optimizer, scheduler)"
   ]
  },
  {
   "cell_type": "markdown",
   "id": "3f66c010",
   "metadata": {},
   "source": [
    "## Prediction"
   ]
  },
  {
   "cell_type": "markdown",
   "id": "12760973",
   "metadata": {},
   "source": [
    "### Load Model"
   ]
  },
  {
   "cell_type": "markdown",
   "id": "5b9dc13e",
   "metadata": {},
   "source": [
    "Load the best model saved previously."
   ]
  },
  {
   "cell_type": "code",
   "execution_count": 35,
   "id": "feaa8e90",
   "metadata": {},
   "outputs": [
    {
     "data": {
      "text/plain": [
       "model(\n",
       "  (conv): Conv1d(11, 64, kernel_size=(3,), stride=(1,), padding=(1,))\n",
       "  (cnndrop): Dropout(p=0, inplace=False)\n",
       "  (relu): ReLU()\n",
       "  (maxpool): MaxPool1d(kernel_size=10, stride=1, padding=0, dilation=1, ceil_mode=False)\n",
       "  (flatten): Flatten()\n",
       "  (linear): Linear(in_features=64, out_features=1, bias=True)\n",
       "  (sigmoid): Sigmoid()\n",
       ")"
      ]
     },
     "execution_count": 35,
     "metadata": {},
     "output_type": "execute_result"
    }
   ],
   "source": [
    "parameters = torch.load('/home/ec2-user/SageMaker/model/Model_48')\n",
    "model.load_state_dict(parameters['model_state_dict'])\n",
    "\n",
    "# Use GPU if available\n",
    "device = torch.device(\"cuda\" if cuda else \"cpu\")\n",
    "model.to(device)"
   ]
  },
  {
   "cell_type": "markdown",
   "id": "aca66615",
   "metadata": {},
   "source": [
    "### Load Data"
   ]
  },
  {
   "cell_type": "markdown",
   "id": "9bd7e0d3",
   "metadata": {},
   "source": [
    "Load the preprocessed test data from the folder."
   ]
  },
  {
   "cell_type": "code",
   "execution_count": 36,
   "id": "2587bd48",
   "metadata": {},
   "outputs": [],
   "source": [
    "test_file = \"s3://capstone-ddos-data/firstZipDataset/\"+str(t)+\"t-\"+str(n)+\"n-DDOS2019-dataset-test.hdf5\"\n",
    "\n",
    "dataset_test = h5py.File(s3.open(test_file, 'rb'))\n",
    "test_data = np.array(dataset_test['set_x'][:])\n",
    "\n",
    "# normally for test data, we do not have the label\n",
    "# test_labels = np.array(dataset_test[\"set_y\"][:])"
   ]
  },
  {
   "cell_type": "markdown",
   "id": "851308c1",
   "metadata": {},
   "source": [
    "Define the data loader for test set where the lable y is not available"
   ]
  },
  {
   "cell_type": "code",
   "execution_count": 37,
   "id": "6a761678",
   "metadata": {},
   "outputs": [],
   "source": [
    "# Define test dataset class\n",
    "class MyTestDataSet(Dataset):\n",
    "    # load the dataset\n",
    "    def __init__(self, x):\n",
    "        self.X = x\n",
    "\n",
    "    # get number of items/rows in dataset\n",
    "    def __len__(self):\n",
    "        return len(self.X)\n",
    "\n",
    "    # get row item at some index\n",
    "    def __getitem__(self, index):\n",
    "        return self.X[index]\n",
    "\n",
    "    def collate_fn(batch):\n",
    "        batch_x = [x for x in batch]\n",
    "\n",
    "        batch_x = torch.as_tensor(batch_x).float()\n",
    "\n",
    "        return batch_x"
   ]
  },
  {
   "cell_type": "markdown",
   "id": "24458201",
   "metadata": {},
   "source": [
    "Load the test data to test_loader that will be used for prediction function."
   ]
  },
  {
   "cell_type": "code",
   "execution_count": 38,
   "id": "b9d25117",
   "metadata": {},
   "outputs": [],
   "source": [
    "test = MyTestDataSet(test_data)\n",
    "test_args = dict(shuffle=False, batch_size=batch_size, num_workers=num_workers, pin_memory=True, collate_fn=MyTestDataSet.collate_fn) if cuda else dict(shuffle=False, batch_size=64, collate_fn=MyTestDataSet.collate_fn)\n",
    "test_loader = DataLoader(test, **test_args)"
   ]
  },
  {
   "cell_type": "markdown",
   "id": "0059414f",
   "metadata": {},
   "source": [
    "### Prediction Function"
   ]
  },
  {
   "cell_type": "markdown",
   "id": "ac65d383",
   "metadata": {},
   "source": [
    "This is the prediction function that will produce the list of probabilities of the network flow belong to 0 or 1 class."
   ]
  },
  {
   "cell_type": "code",
   "execution_count": 39,
   "id": "549a2a52",
   "metadata": {},
   "outputs": [],
   "source": [
    "def predict(test_loader, model):\n",
    "    predictions = np.array([])\n",
    "    model.eval()\n",
    "    with torch.no_grad():\n",
    "        for x in test_loader:\n",
    "            x = x.to(device).float()\n",
    "            output = model(x)\n",
    "            predictions = np.append(predictions, output)\n",
    "            \n",
    "    return predictions"
   ]
  },
  {
   "cell_type": "code",
   "execution_count": 40,
   "id": "cf536012",
   "metadata": {},
   "outputs": [],
   "source": [
    "probabilities = predict(test_loader, model)"
   ]
  },
  {
   "cell_type": "markdown",
   "id": "38234eea",
   "metadata": {},
   "source": [
    "Convert the probability predictions into class prediction using the threshold p defined previously."
   ]
  },
  {
   "cell_type": "code",
   "execution_count": 41,
   "id": "9e844a34",
   "metadata": {},
   "outputs": [
    {
     "data": {
      "text/plain": [
       "array([1., 1., 0., ..., 0., 1., 1.])"
      ]
     },
     "execution_count": 41,
     "metadata": {},
     "output_type": "execute_result"
    }
   ],
   "source": [
    "prediction = np.zeros(probabilities.shape)\n",
    "prediction[probabilities > p] = 1\n",
    "prediction"
   ]
  },
  {
   "cell_type": "markdown",
   "id": "5eb97613",
   "metadata": {},
   "source": [
    "### Check Model Performance"
   ]
  },
  {
   "cell_type": "markdown",
   "id": "2d046059",
   "metadata": {},
   "source": [
    "Compare the prediction of the model with the truth of the test dataset to see the performance of the model. Evaluate the model performance using the following metrics:\n",
    "* Accuracy\n",
    "* F1 Score\n",
    "* Confusion Matrix"
   ]
  },
  {
   "cell_type": "code",
   "execution_count": 42,
   "id": "eb3251d1",
   "metadata": {},
   "outputs": [],
   "source": [
    "truth = np.array(dataset_test[\"set_y\"][:])"
   ]
  },
  {
   "cell_type": "code",
   "execution_count": 43,
   "id": "f52949b2",
   "metadata": {},
   "outputs": [
    {
     "name": "stdout",
     "output_type": "stream",
     "text": [
      "Accuracy: \n",
      "0.9983860555196902\n",
      "F1 Score: \n",
      "0.9983859547115135\n",
      "Confusion Matrix: \n",
      "[[1447    4]\n",
      " [   1 1646]]\n"
     ]
    }
   ],
   "source": [
    "print(\"Accuracy: \")\n",
    "print(accuracy_score(truth, prediction))\n",
    "print(\"F1 Score: \")\n",
    "print(f1_score(truth, prediction, average='weighted'))\n",
    "print(\"Confusion Matrix: \")\n",
    "print(confusion_matrix(truth, prediction))"
   ]
  },
  {
   "cell_type": "markdown",
   "id": "edcaf69a",
   "metadata": {},
   "source": [
    "### Plot ROC Curve"
   ]
  },
  {
   "cell_type": "code",
   "execution_count": 44,
   "id": "4c124d0c",
   "metadata": {},
   "outputs": [
    {
     "data": {
      "image/png": "[encoded data removed]",
      "text/plain": [
       "<Figure size 360x360 with 1 Axes>"
      ]
     },
     "metadata": {
      "needs_background": "light"
     },
     "output_type": "display_data"
    }
   ],
   "source": [
    "import sklearn.metrics as metrics\n",
    "import matplotlib.pyplot as plt\n",
    "# calculate the fpr and tpr for all thresholds of the classification\n",
    "fpr, tpr, threshold = metrics.roc_curve(truth, probabilities)\n",
    "roc_auc = metrics.auc(fpr, tpr)\n",
    "plt.rcParams['figure.figsize'] = [5, 5]\n",
    "\n",
    "plt.title('Receiver Operating Characteristic')\n",
    "plt.plot(fpr, tpr, 'b', label = 'AUC = %0.2f' % roc_auc)\n",
    "plt.legend(loc = 'lower right')\n",
    "plt.plot([0, 1], [0, 1],'r--')\n",
    "plt.xlim([0, 1])\n",
    "plt.ylim([0, 1])\n",
    "plt.ylabel('True Positive Rate')\n",
    "plt.xlabel('False Positive Rate')\n",
    "plt.show()\n"
   ]
  },
  {
   "cell_type": "markdown",
   "id": "736b9905",
   "metadata": {},
   "source": [
    "## Visualize Filters"
   ]
  },
  {
   "cell_type": "markdown",
   "id": "1059c1eb",
   "metadata": {},
   "source": [
    "In this section, we would like to visualize the parameter values of the k filters learned by the model.\n",
    "\n",
    "We hope to use this visualization to discover the types of features that the kernel focuse on detecting. The activation maps output by convolutional layers can be inspected to understand exactly what features were detected for the given input.\n",
    "\n",
    "The graphs below shows the k filters in the cnn layer. The vertical 11 indices correspond to the 11 attributes of the input. The lighter the color, the higher the weights of the filter. The darker the color, the lower the weights of the filter. The 11 attributes are:\n",
    "\n",
    "* 0: Time\n",
    "* 1: Packet Len\n",
    "* 2: Highest Layer\n",
    "* 3: IP Flags\n",
    "* 4: Protocols\n",
    "* 5: TCP Lens\n",
    "* 6: TCP Ack\n",
    "* 7: TCP Flags\n",
    "* 8: TCP Window Size\n",
    "* 9: UDP Len\n",
    "* 10: ICMP Type"
   ]
  },
  {
   "cell_type": "code",
   "execution_count": 45,
   "id": "fc98b7db",
   "metadata": {},
   "outputs": [],
   "source": [
    "from matplotlib import pyplot"
   ]
  },
  {
   "cell_type": "code",
   "execution_count": 46,
   "id": "b94b6600",
   "metadata": {},
   "outputs": [
    {
     "name": "stdout",
     "output_type": "stream",
     "text": [
      "(64, 11, 3)\n",
      "(64,)\n"
     ]
    }
   ],
   "source": [
    "filters = model.conv.weight.detach().numpy()\n",
    "print(filters.shape)\n",
    "biases = model.conv.bias.detach().numpy()\n",
    "print(biases.shape)"
   ]
  },
  {
   "cell_type": "code",
   "execution_count": 47,
   "id": "f2ca573d",
   "metadata": {},
   "outputs": [],
   "source": [
    "# normalize filter values to 0-1 so we can visualize them\n",
    "f_min, f_max = filters.min(), filters.max()\n",
    "filters = (filters - f_min) / (f_max - f_min)"
   ]
  },
  {
   "cell_type": "code",
   "execution_count": 48,
   "id": "fa3b080f",
   "metadata": {},
   "outputs": [
    {
     "data": {
      "image/png": "[encoded data removed]",
      "text/plain": [
       "<Figure size 1440x2880 with 64 Axes>"
      ]
     },
     "metadata": {
      "needs_background": "light"
     },
     "output_type": "display_data"
    }
   ],
   "source": [
    "plt.rcParams['figure.figsize'] = [20, 40]\n",
    "for i in range(k):\n",
    "    # get the filter\n",
    "    f = filters[i,:,:]\n",
    "    plt.subplot(8,8,i+1)\n",
    "    pyplot.imshow(f, cmap='gray')"
   ]
  },
  {
   "cell_type": "code",
   "execution_count": null,
   "id": "78a2422c",
   "metadata": {},
   "outputs": [],
   "source": []
  },
  {
   "cell_type": "code",
   "execution_count": null,
   "id": "8718abd8",
   "metadata": {},
   "outputs": [],
   "source": []
  }
 ],
 "metadata": {
  "kernelspec": {
   "display_name": "conda_pytorch_p36",
   "language": "python",
   "name": "conda_pytorch_p36"
  },
  "language_info": {
   "codemirror_mode": {
    "name": "ipython",
    "version": 3
   },
   "file_extension": ".py",
   "mimetype": "text/x-python",
   "name": "python",
   "nbconvert_exporter": "python",
   "pygments_lexer": "ipython3",
   "version": "3.6.13"
  }
 },
 "nbformat": 4,
 "nbformat_minor": 5
}
